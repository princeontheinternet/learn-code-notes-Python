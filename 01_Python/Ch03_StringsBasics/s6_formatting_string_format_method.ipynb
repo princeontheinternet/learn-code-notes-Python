{
 "cells": [
  {
   "cell_type": "code",
   "execution_count": 2,
   "id": "95f8cbaf",
   "metadata": {},
   "outputs": [
    {
     "name": "stdout",
     "output_type": "stream",
     "text": [
      "The quick brown fox\n"
     ]
    }
   ],
   "source": [
    "# the values in the format can be used as index number \n",
    "print('The {2} {1} {0}'.format('fox','brown','quick'))"
   ]
  },
  {
   "cell_type": "code",
   "execution_count": 4,
   "id": "f9946375",
   "metadata": {
    "scrolled": false
   },
   "outputs": [
    {
     "name": "stdout",
     "output_type": "stream",
     "text": [
      "The quick brown fox\n"
     ]
    }
   ],
   "source": [
    "print('The {q} {b} {f}'.format(f='fox', b='brown', q='quick'))"
   ]
  },
  {
   "cell_type": "markdown",
   "id": "40f8fc79",
   "metadata": {},
   "source": [
    "#### Alignment, padding and precision with .format()"
   ]
  },
  {
   "cell_type": "code",
   "execution_count": 17,
   "id": "c8c5375b",
   "metadata": {},
   "outputs": [
    {
     "name": "stdout",
     "output_type": "stream",
     "text": [
      "The result is 14.29\n"
     ]
    }
   ],
   "source": [
    "result = 100/7\n",
    "print(\"The result is {0:1.2f}\".format(result))  # {result/0:1.2f} -> {value:width.precision f}"
   ]
  },
  {
   "cell_type": "markdown",
   "id": "93d01252",
   "metadata": {},
   "source": [
    "By default, .format() aligns text to the left, numbers to the right. You can pass an optional <,^, or > to set a left, center or right alignment:"
   ]
  },
  {
   "cell_type": "code",
   "execution_count": 6,
   "id": "3b681b6b",
   "metadata": {},
   "outputs": [
    {
     "name": "stdout",
     "output_type": "stream",
     "text": [
      "Left     |  Center  |    Right\n",
      "11       |    22    |       33\n"
     ]
    }
   ],
   "source": [
    "print('{0:<8} | {1:^8} | {2:>8}'.format('Left','Center','Right'))\n",
    "print('{0:<8} | {1:^8} | {2:>8}'.format(11,22,33))"
   ]
  }
 ],
 "metadata": {
  "kernelspec": {
   "display_name": "Python 3",
   "language": "python",
   "name": "python3"
  },
  "language_info": {
   "codemirror_mode": {
    "name": "ipython",
    "version": 3
   },
   "file_extension": ".py",
   "mimetype": "text/x-python",
   "name": "python",
   "nbconvert_exporter": "python",
   "pygments_lexer": "ipython3",
   "version": "3.8.8"
  }
 },
 "nbformat": 4,
 "nbformat_minor": 5
}
