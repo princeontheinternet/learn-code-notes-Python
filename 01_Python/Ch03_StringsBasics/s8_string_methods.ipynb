{
  "nbformat": 4,
  "nbformat_minor": 0,
  "metadata": {
    "colab": {
      "provenance": []
    },
    "kernelspec": {
      "name": "python3",
      "display_name": "Python 3"
    },
    "language_info": {
      "name": "python"
    }
  },
  "cells": [
    {
      "cell_type": "markdown",
      "source": [
        "# String Methods"
      ],
      "metadata": {
        "id": "5fY8KYvr6FO7"
      }
    },
    {
      "cell_type": "code",
      "source": [
        "s = \"My name is Prince\""
      ],
      "metadata": {
        "id": "puqsBomu6p1B"
      },
      "execution_count": 4,
      "outputs": []
    },
    {
      "cell_type": "markdown",
      "source": [
        "## s.upper()"
      ],
      "metadata": {
        "id": "OqAWDQJG6LEt"
      }
    },
    {
      "cell_type": "code",
      "source": [
        "s.upper()"
      ],
      "metadata": {
        "colab": {
          "base_uri": "https://localhost:8080/",
          "height": 35
        },
        "id": "xJXRQgNl6wWF",
        "outputId": "025fdcab-6127-454c-a3eb-52d1c39b3a3e"
      },
      "execution_count": 5,
      "outputs": [
        {
          "output_type": "execute_result",
          "data": {
            "text/plain": [
              "'MY NAME IS PRINCE'"
            ],
            "application/vnd.google.colaboratory.intrinsic+json": {
              "type": "string"
            }
          },
          "metadata": {},
          "execution_count": 5
        }
      ]
    },
    {
      "cell_type": "markdown",
      "source": [
        "## s.lower()"
      ],
      "metadata": {
        "id": "oaul-IJ57AGs"
      }
    },
    {
      "cell_type": "code",
      "source": [
        "s.lower()"
      ],
      "metadata": {
        "colab": {
          "base_uri": "https://localhost:8080/",
          "height": 35
        },
        "id": "d19yfZKs66wX",
        "outputId": "c48bd731-9915-45a2-93cc-33d1f4451d7a"
      },
      "execution_count": 6,
      "outputs": [
        {
          "output_type": "execute_result",
          "data": {
            "text/plain": [
              "'my name is prince'"
            ],
            "application/vnd.google.colaboratory.intrinsic+json": {
              "type": "string"
            }
          },
          "metadata": {},
          "execution_count": 6
        }
      ]
    },
    {
      "cell_type": "markdown",
      "source": [
        "## s.capitalize()\n",
        "Converts 1st char into upper and rest into lower"
      ],
      "metadata": {
        "id": "zTM4ry8V_GGx"
      }
    },
    {
      "cell_type": "code",
      "source": [
        "s.capitalize()"
      ],
      "metadata": {
        "colab": {
          "base_uri": "https://localhost:8080/",
          "height": 35
        },
        "id": "vyFxVET4_MKS",
        "outputId": "fe0e3acb-8b77-48dc-8cea-dde16b49b491"
      },
      "execution_count": 30,
      "outputs": [
        {
          "output_type": "execute_result",
          "data": {
            "text/plain": [
              "'My name is prince'"
            ],
            "application/vnd.google.colaboratory.intrinsic+json": {
              "type": "string"
            }
          },
          "metadata": {},
          "execution_count": 30
        }
      ]
    },
    {
      "cell_type": "markdown",
      "source": [
        "## s.swapcase()\n",
        "Changes the character casing of the string."
      ],
      "metadata": {
        "id": "p1zuLH9X_ZPF"
      }
    },
    {
      "cell_type": "code",
      "source": [
        "s.swapcase()"
      ],
      "metadata": {
        "colab": {
          "base_uri": "https://localhost:8080/",
          "height": 35
        },
        "id": "OAWnkfqD_hjY",
        "outputId": "bf8f4de5-af39-4458-ff6e-9053adc0d8ec"
      },
      "execution_count": 31,
      "outputs": [
        {
          "output_type": "execute_result",
          "data": {
            "text/plain": [
              "'mY NAME IS pRINCE'"
            ],
            "application/vnd.google.colaboratory.intrinsic+json": {
              "type": "string"
            }
          },
          "metadata": {},
          "execution_count": 31
        }
      ]
    },
    {
      "cell_type": "markdown",
      "source": [
        "## s.strip()\n",
        "Removes any white spaces before and after the string.\n"
      ],
      "metadata": {
        "id": "iN-QKJyj7hit"
      }
    },
    {
      "cell_type": "code",
      "source": [
        "s.strip()"
      ],
      "metadata": {
        "colab": {
          "base_uri": "https://localhost:8080/",
          "height": 35
        },
        "id": "2afx0U3V7UUi",
        "outputId": "d4b4ae61-dc9e-4b44-fc3b-cbe31a4f39d2"
      },
      "execution_count": 7,
      "outputs": [
        {
          "output_type": "execute_result",
          "data": {
            "text/plain": [
              "'My name is Prince'"
            ],
            "application/vnd.google.colaboratory.intrinsic+json": {
              "type": "string"
            }
          },
          "metadata": {},
          "execution_count": 7
        }
      ]
    },
    {
      "cell_type": "markdown",
      "source": [
        "## s.replace()\n",
        " Replaces all occurences of a string with another string"
      ],
      "metadata": {
        "id": "mDu_bNA-7vsE"
      }
    },
    {
      "cell_type": "code",
      "source": [
        "s.replace('Prince', 'P')"
      ],
      "metadata": {
        "colab": {
          "base_uri": "https://localhost:8080/",
          "height": 35
        },
        "id": "tvp_1TWE7sWx",
        "outputId": "3fdc1a3a-df59-4d4a-c8d8-3173da377291"
      },
      "execution_count": 8,
      "outputs": [
        {
          "output_type": "execute_result",
          "data": {
            "text/plain": [
              "'My name is P'"
            ],
            "application/vnd.google.colaboratory.intrinsic+json": {
              "type": "string"
            }
          },
          "metadata": {},
          "execution_count": 8
        }
      ]
    },
    {
      "cell_type": "markdown",
      "source": [
        "## s.split()\n",
        "Splits the string in list."
      ],
      "metadata": {
        "id": "sAuW-iCt8TON"
      }
    },
    {
      "cell_type": "code",
      "source": [
        "s.split(' ')"
      ],
      "metadata": {
        "colab": {
          "base_uri": "https://localhost:8080/"
        },
        "id": "nNCFtA-R7-ZD",
        "outputId": "48b3813d-b715-44e3-f82b-9fd1e470bde9"
      },
      "execution_count": 13,
      "outputs": [
        {
          "output_type": "execute_result",
          "data": {
            "text/plain": [
              "['My', 'name', 'is', 'Prince']"
            ]
          },
          "metadata": {},
          "execution_count": 13
        }
      ]
    },
    {
      "cell_type": "markdown",
      "source": [
        "## s.count()\n",
        "Returns the number of times the given value has occurred."
      ],
      "metadata": {
        "id": "z7UJbn7D87e3"
      }
    },
    {
      "cell_type": "code",
      "source": [
        "s.count('Prince')"
      ],
      "metadata": {
        "colab": {
          "base_uri": "https://localhost:8080/"
        },
        "id": "UZRAC0p884nq",
        "outputId": "7e1dfab1-97f6-4812-e119-737462de1a39"
      },
      "execution_count": 16,
      "outputs": [
        {
          "output_type": "execute_result",
          "data": {
            "text/plain": [
              "1"
            ]
          },
          "metadata": {},
          "execution_count": 16
        }
      ]
    },
    {
      "cell_type": "markdown",
      "source": [
        "## s.find()\n",
        "Returns the index of the 1st occurence of the given value.\n",
        "Returns -1 if value is not present."
      ],
      "metadata": {
        "id": "5uCKz30n9MUU"
      }
    },
    {
      "cell_type": "code",
      "source": [
        "s.find('P')"
      ],
      "metadata": {
        "colab": {
          "base_uri": "https://localhost:8080/"
        },
        "id": "8KGEeRf89Idt",
        "outputId": "2c52f2f5-7b47-4ef8-f561-cadbca1ff5c2"
      },
      "execution_count": 18,
      "outputs": [
        {
          "output_type": "execute_result",
          "data": {
            "text/plain": [
              "11"
            ]
          },
          "metadata": {},
          "execution_count": 18
        }
      ]
    },
    {
      "cell_type": "markdown",
      "source": [
        "## s.index()\n",
        "Returns index of the given value. \n",
        "Gives error if the value is not present."
      ],
      "metadata": {
        "id": "h_6MrJEK9o2n"
      }
    },
    {
      "cell_type": "code",
      "source": [
        "s.index('y')"
      ],
      "metadata": {
        "colab": {
          "base_uri": "https://localhost:8080/"
        },
        "id": "g_8kgYcE9nB4",
        "outputId": "6e470c69-6310-40d9-891c-cbc21f4f54d2"
      },
      "execution_count": 24,
      "outputs": [
        {
          "output_type": "execute_result",
          "data": {
            "text/plain": [
              "1"
            ]
          },
          "metadata": {},
          "execution_count": 24
        }
      ]
    },
    {
      "cell_type": "markdown",
      "source": [
        "## s.startswith()\n",
        "\n"
      ],
      "metadata": {
        "id": "M8goN7Vx-cgl"
      }
    },
    {
      "cell_type": "code",
      "source": [
        "s.startswith('My')"
      ],
      "metadata": {
        "colab": {
          "base_uri": "https://localhost:8080/"
        },
        "id": "a44MHQfI9jDa",
        "outputId": "5dc38eb4-1d8a-43ab-c6c6-d2f2ba3e5d95"
      },
      "execution_count": 28,
      "outputs": [
        {
          "output_type": "execute_result",
          "data": {
            "text/plain": [
              "True"
            ]
          },
          "metadata": {},
          "execution_count": 28
        }
      ]
    },
    {
      "cell_type": "markdown",
      "source": [
        "## s.endswith()"
      ],
      "metadata": {
        "id": "7NILqMgx-4sj"
      }
    },
    {
      "cell_type": "code",
      "source": [
        "s.endswith('Prince')"
      ],
      "metadata": {
        "colab": {
          "base_uri": "https://localhost:8080/"
        },
        "id": "Rp6UvtRF-wnN",
        "outputId": "d1188df8-1973-4e40-8a35-d9ce57b25cdb"
      },
      "execution_count": 29,
      "outputs": [
        {
          "output_type": "execute_result",
          "data": {
            "text/plain": [
              "True"
            ]
          },
          "metadata": {},
          "execution_count": 29
        }
      ]
    },
    {
      "cell_type": "markdown",
      "source": [
        "## s.isalpha()\n",
        "Returns True only if the entire string only consists of A-Z, a-z"
      ],
      "metadata": {
        "id": "xVll9Io1__Xf"
      }
    },
    {
      "cell_type": "code",
      "source": [
        "s.isalpha() #returns False because of spaces in the string"
      ],
      "metadata": {
        "colab": {
          "base_uri": "https://localhost:8080/"
        },
        "id": "UijJSRXY-8kT",
        "outputId": "3e5f4561-979f-4906-d6ce-e6db64ca0255"
      },
      "execution_count": 34,
      "outputs": [
        {
          "output_type": "execute_result",
          "data": {
            "text/plain": [
              "False"
            ]
          },
          "metadata": {},
          "execution_count": 34
        }
      ]
    },
    {
      "cell_type": "markdown",
      "source": [
        "## s.isalnum()\n",
        "Returns True only if the entire string only consists of A-Z, a-z, 0-9."
      ],
      "metadata": {
        "id": "cRHggZv0ApVt"
      }
    },
    {
      "cell_type": "code",
      "source": [
        "s.isalnum() #returns False because of spaces in the string"
      ],
      "metadata": {
        "colab": {
          "base_uri": "https://localhost:8080/"
        },
        "id": "3ceZmkH-_-bP",
        "outputId": "00a587b4-3e1a-483b-8e7f-447c57acedaf"
      },
      "execution_count": 35,
      "outputs": [
        {
          "output_type": "execute_result",
          "data": {
            "text/plain": [
              "False"
            ]
          },
          "metadata": {},
          "execution_count": 35
        }
      ]
    },
    {
      "cell_type": "markdown",
      "source": [
        "## s.islower()"
      ],
      "metadata": {
        "id": "mDv-7plhA6jD"
      }
    },
    {
      "cell_type": "code",
      "source": [
        "s.islower()"
      ],
      "metadata": {
        "colab": {
          "base_uri": "https://localhost:8080/"
        },
        "id": "ni4jTTDFAybv",
        "outputId": "504bc208-1b77-490a-80fe-63196919f360"
      },
      "execution_count": 36,
      "outputs": [
        {
          "output_type": "execute_result",
          "data": {
            "text/plain": [
              "False"
            ]
          },
          "metadata": {},
          "execution_count": 36
        }
      ]
    },
    {
      "cell_type": "markdown",
      "source": [
        "## s.isupper()"
      ],
      "metadata": {
        "id": "--3fedLMBAOZ"
      }
    },
    {
      "cell_type": "code",
      "source": [
        "s.isupper()"
      ],
      "metadata": {
        "colab": {
          "base_uri": "https://localhost:8080/"
        },
        "id": "y20r3CkcA_d2",
        "outputId": "cd04593b-301b-433b-e3d7-2a717ed5069e"
      },
      "execution_count": 39,
      "outputs": [
        {
          "output_type": "execute_result",
          "data": {
            "text/plain": [
              "False"
            ]
          },
          "metadata": {},
          "execution_count": 39
        }
      ]
    },
    {
      "cell_type": "code",
      "source": [],
      "metadata": {
        "id": "438rYD-qBJJm"
      },
      "execution_count": null,
      "outputs": []
    }
  ]
}