{
  "cells": [
    {
      "cell_type": "markdown",
      "metadata": {
        "id": "5fY8KYvr6FO7"
      },
      "source": [
        "# String Methods"
      ]
    },
    {
      "cell_type": "code",
      "execution_count": 1,
      "metadata": {
        "id": "puqsBomu6p1B"
      },
      "outputs": [],
      "source": [
        "s = \"My name is Prince\""
      ]
    },
    {
      "cell_type": "markdown",
      "metadata": {
        "id": "OqAWDQJG6LEt"
      },
      "source": [
        "## s.upper()"
      ]
    },
    {
      "cell_type": "code",
      "execution_count": null,
      "metadata": {
        "colab": {
          "base_uri": "https://localhost:8080/",
          "height": 35
        },
        "id": "xJXRQgNl6wWF",
        "outputId": "025fdcab-6127-454c-a3eb-52d1c39b3a3e"
      },
      "outputs": [
        {
          "data": {
            "application/vnd.google.colaboratory.intrinsic+json": {
              "type": "string"
            },
            "text/plain": [
              "'MY NAME IS PRINCE'"
            ]
          },
          "execution_count": 5,
          "metadata": {},
          "output_type": "execute_result"
        }
      ],
      "source": [
        "s.upper()"
      ]
    },
    {
      "cell_type": "markdown",
      "metadata": {
        "id": "oaul-IJ57AGs"
      },
      "source": [
        "## s.lower()"
      ]
    },
    {
      "cell_type": "code",
      "execution_count": null,
      "metadata": {
        "colab": {
          "base_uri": "https://localhost:8080/",
          "height": 35
        },
        "id": "d19yfZKs66wX",
        "outputId": "c48bd731-9915-45a2-93cc-33d1f4451d7a"
      },
      "outputs": [
        {
          "data": {
            "application/vnd.google.colaboratory.intrinsic+json": {
              "type": "string"
            },
            "text/plain": [
              "'my name is prince'"
            ]
          },
          "execution_count": 6,
          "metadata": {},
          "output_type": "execute_result"
        }
      ],
      "source": [
        "s.lower()"
      ]
    },
    {
      "cell_type": "markdown",
      "metadata": {
        "id": "--3fedLMBAOZ"
      },
      "source": [
        "## s.isupper()"
      ]
    },
    {
      "cell_type": "code",
      "execution_count": null,
      "metadata": {
        "colab": {
          "base_uri": "https://localhost:8080/"
        },
        "id": "y20r3CkcA_d2",
        "outputId": "cd04593b-301b-433b-e3d7-2a717ed5069e"
      },
      "outputs": [
        {
          "data": {
            "text/plain": [
              "False"
            ]
          },
          "execution_count": 39,
          "metadata": {},
          "output_type": "execute_result"
        }
      ],
      "source": [
        "s.isupper()"
      ]
    },
    {
      "cell_type": "markdown",
      "metadata": {
        "id": "LLuiN4x2i7Oc"
      },
      "source": [
        "## s.islower()"
      ]
    },
    {
      "cell_type": "code",
      "execution_count": null,
      "metadata": {
        "colab": {
          "base_uri": "https://localhost:8080/"
        },
        "outputId": "504bc208-1b77-490a-80fe-63196919f360",
        "id": "L1pUdHE-i7Od"
      },
      "outputs": [
        {
          "data": {
            "text/plain": [
              "False"
            ]
          },
          "execution_count": 36,
          "metadata": {},
          "output_type": "execute_result"
        }
      ],
      "source": [
        "s.islower()"
      ]
    },
    {
      "cell_type": "markdown",
      "source": [
        "## s.casefold()"
      ],
      "metadata": {
        "id": "n1jcHWJqjDgB"
      }
    },
    {
      "cell_type": "code",
      "source": [
        "s.casefold()"
      ],
      "metadata": {
        "colab": {
          "base_uri": "https://localhost:8080/",
          "height": 35
        },
        "id": "SSe5fROxjB5J",
        "outputId": "d5f8ac68-1bd2-4215-87d3-de911e1f2778"
      },
      "execution_count": 2,
      "outputs": [
        {
          "output_type": "execute_result",
          "data": {
            "text/plain": [
              "'my name is prince'"
            ],
            "application/vnd.google.colaboratory.intrinsic+json": {
              "type": "string"
            }
          },
          "metadata": {},
          "execution_count": 2
        }
      ]
    },
    {
      "cell_type": "markdown",
      "metadata": {
        "id": "p1zuLH9X_ZPF"
      },
      "source": [
        "## s.swapcase()\n",
        "Changes the character casing of the string."
      ]
    },
    {
      "cell_type": "code",
      "execution_count": null,
      "metadata": {
        "colab": {
          "base_uri": "https://localhost:8080/",
          "height": 35
        },
        "id": "OAWnkfqD_hjY",
        "outputId": "bf8f4de5-af39-4458-ff6e-9053adc0d8ec"
      },
      "outputs": [
        {
          "data": {
            "application/vnd.google.colaboratory.intrinsic+json": {
              "type": "string"
            },
            "text/plain": [
              "'mY NAME IS pRINCE'"
            ]
          },
          "execution_count": 31,
          "metadata": {},
          "output_type": "execute_result"
        }
      ],
      "source": [
        "s.swapcase()"
      ]
    },
    {
      "cell_type": "markdown",
      "metadata": {
        "id": "zTM4ry8V_GGx"
      },
      "source": [
        "## s.capitalize()\n",
        "Converts 1st char into upper and rest into lower"
      ]
    },
    {
      "cell_type": "code",
      "execution_count": null,
      "metadata": {
        "colab": {
          "base_uri": "https://localhost:8080/",
          "height": 35
        },
        "id": "vyFxVET4_MKS",
        "outputId": "fe0e3acb-8b77-48dc-8cea-dde16b49b491"
      },
      "outputs": [
        {
          "data": {
            "application/vnd.google.colaboratory.intrinsic+json": {
              "type": "string"
            },
            "text/plain": [
              "'My name is prince'"
            ]
          },
          "execution_count": 30,
          "metadata": {},
          "output_type": "execute_result"
        }
      ],
      "source": [
        "s.capitalize()"
      ]
    },
    {
      "cell_type": "markdown",
      "source": [
        "## s.title()\n",
        "Converts the first character of each word to upper case\n"
      ],
      "metadata": {
        "id": "k-E2g3ATj3gY"
      }
    },
    {
      "cell_type": "code",
      "source": [
        "s.title()"
      ],
      "metadata": {
        "colab": {
          "base_uri": "https://localhost:8080/",
          "height": 35
        },
        "id": "bmq0rTKnj20T",
        "outputId": "ee80c4ed-b8c8-4396-c148-90130a054eda"
      },
      "execution_count": 4,
      "outputs": [
        {
          "output_type": "execute_result",
          "data": {
            "text/plain": [
              "'My Name Is Prince'"
            ],
            "application/vnd.google.colaboratory.intrinsic+json": {
              "type": "string"
            }
          },
          "metadata": {},
          "execution_count": 4
        }
      ]
    },
    {
      "cell_type": "markdown",
      "metadata": {
        "id": "iN-QKJyj7hit"
      },
      "source": [
        "## s.strip()\n",
        "Removes any white spaces before and after the string.\n"
      ]
    },
    {
      "cell_type": "code",
      "execution_count": null,
      "metadata": {
        "colab": {
          "base_uri": "https://localhost:8080/",
          "height": 35
        },
        "id": "2afx0U3V7UUi",
        "outputId": "d4b4ae61-dc9e-4b44-fc3b-cbe31a4f39d2"
      },
      "outputs": [
        {
          "data": {
            "application/vnd.google.colaboratory.intrinsic+json": {
              "type": "string"
            },
            "text/plain": [
              "'My name is Prince'"
            ]
          },
          "execution_count": 7,
          "metadata": {},
          "output_type": "execute_result"
        }
      ],
      "source": [
        "s.strip()"
      ]
    },
    {
      "cell_type": "markdown",
      "metadata": {
        "id": "sAuW-iCt8TON"
      },
      "source": [
        "## s.split()\n",
        "Splits the string in list.\n",
        "Default delimeter is whitespace char."
      ]
    },
    {
      "cell_type": "code",
      "execution_count": null,
      "metadata": {
        "colab": {
          "base_uri": "https://localhost:8080/"
        },
        "id": "nNCFtA-R7-ZD",
        "outputId": "48b3813d-b715-44e3-f82b-9fd1e470bde9"
      },
      "outputs": [
        {
          "data": {
            "text/plain": [
              "['My', 'name', 'is', 'Prince']"
            ]
          },
          "execution_count": 3,
          "metadata": {},
          "output_type": "execute_result"
        }
      ],
      "source": [
        "s.split()"
      ]
    },
    {
      "cell_type": "markdown",
      "metadata": {
        "id": "mDu_bNA-7vsE"
      },
      "source": [
        "## s.replace()\n",
        " Replaces all occurences of a string with another string"
      ]
    },
    {
      "cell_type": "code",
      "execution_count": null,
      "metadata": {
        "colab": {
          "base_uri": "https://localhost:8080/",
          "height": 35
        },
        "id": "tvp_1TWE7sWx",
        "outputId": "3fdc1a3a-df59-4d4a-c8d8-3173da377291"
      },
      "outputs": [
        {
          "data": {
            "application/vnd.google.colaboratory.intrinsic+json": {
              "type": "string"
            },
            "text/plain": [
              "'My name is P'"
            ]
          },
          "execution_count": 8,
          "metadata": {},
          "output_type": "execute_result"
        }
      ],
      "source": [
        "s.replace('Prince', 'P')"
      ]
    },
    {
      "cell_type": "markdown",
      "metadata": {
        "id": "z7UJbn7D87e3"
      },
      "source": [
        "## s.count()\n",
        "Returns the number of times the given value has occurred."
      ]
    },
    {
      "cell_type": "code",
      "execution_count": null,
      "metadata": {
        "colab": {
          "base_uri": "https://localhost:8080/"
        },
        "id": "UZRAC0p884nq",
        "outputId": "7e1dfab1-97f6-4812-e119-737462de1a39"
      },
      "outputs": [
        {
          "data": {
            "text/plain": [
              "1"
            ]
          },
          "execution_count": 16,
          "metadata": {},
          "output_type": "execute_result"
        }
      ],
      "source": [
        "s.count('Prince')"
      ]
    },
    {
      "cell_type": "markdown",
      "metadata": {
        "id": "5uCKz30n9MUU"
      },
      "source": [
        "## s.find()\n",
        "Returns the index of the 1st occurence of the given value.\n",
        "Returns -1 if value is not present."
      ]
    },
    {
      "cell_type": "code",
      "execution_count": null,
      "metadata": {
        "colab": {
          "base_uri": "https://localhost:8080/"
        },
        "id": "8KGEeRf89Idt",
        "outputId": "2c52f2f5-7b47-4ef8-f561-cadbca1ff5c2"
      },
      "outputs": [
        {
          "data": {
            "text/plain": [
              "11"
            ]
          },
          "execution_count": 18,
          "metadata": {},
          "output_type": "execute_result"
        }
      ],
      "source": [
        "s.find('P')"
      ]
    },
    {
      "cell_type": "markdown",
      "metadata": {
        "id": "h_6MrJEK9o2n"
      },
      "source": [
        "## s.index()\n",
        "Returns index of the first occurrence of the given value. \n",
        "Gives error if the value is not present."
      ]
    },
    {
      "cell_type": "code",
      "execution_count": null,
      "metadata": {
        "colab": {
          "base_uri": "https://localhost:8080/"
        },
        "id": "g_8kgYcE9nB4",
        "outputId": "6e470c69-6310-40d9-891c-cbc21f4f54d2"
      },
      "outputs": [
        {
          "data": {
            "text/plain": [
              "1"
            ]
          },
          "execution_count": 24,
          "metadata": {},
          "output_type": "execute_result"
        }
      ],
      "source": [
        "s.index('y')"
      ]
    },
    {
      "cell_type": "code",
      "execution_count": null,
      "metadata": {
        "id": "-zfrrGpfiYji",
        "outputId": "a191ce17-a9e1-4c14-ed27-e11770c9b5d3"
      },
      "outputs": [
        {
          "data": {
            "text/plain": [
              "14"
            ]
          },
          "execution_count": 4,
          "metadata": {},
          "output_type": "execute_result"
        }
      ],
      "source": [
        "s.index('n', 4, len(s))"
      ]
    },
    {
      "cell_type": "markdown",
      "metadata": {
        "id": "M8goN7Vx-cgl"
      },
      "source": [
        "## s.startswith()\n",
        "\n"
      ]
    },
    {
      "cell_type": "code",
      "execution_count": null,
      "metadata": {
        "colab": {
          "base_uri": "https://localhost:8080/"
        },
        "id": "a44MHQfI9jDa",
        "outputId": "5dc38eb4-1d8a-43ab-c6c6-d2f2ba3e5d95"
      },
      "outputs": [
        {
          "data": {
            "text/plain": [
              "True"
            ]
          },
          "execution_count": 28,
          "metadata": {},
          "output_type": "execute_result"
        }
      ],
      "source": [
        "s.startswith('My')"
      ]
    },
    {
      "cell_type": "markdown",
      "metadata": {
        "id": "7NILqMgx-4sj"
      },
      "source": [
        "## s.endswith()"
      ]
    },
    {
      "cell_type": "code",
      "execution_count": null,
      "metadata": {
        "colab": {
          "base_uri": "https://localhost:8080/"
        },
        "id": "Rp6UvtRF-wnN",
        "outputId": "d1188df8-1973-4e40-8a35-d9ce57b25cdb"
      },
      "outputs": [
        {
          "data": {
            "text/plain": [
              "True"
            ]
          },
          "execution_count": 29,
          "metadata": {},
          "output_type": "execute_result"
        }
      ],
      "source": [
        "s.endswith('Prince')"
      ]
    },
    {
      "cell_type": "markdown",
      "metadata": {
        "id": "xVll9Io1__Xf"
      },
      "source": [
        "## s.isalpha()\n",
        "Returns True only if the entire string only consists of A-Z, a-z"
      ]
    },
    {
      "cell_type": "code",
      "execution_count": null,
      "metadata": {
        "colab": {
          "base_uri": "https://localhost:8080/"
        },
        "id": "UijJSRXY-8kT",
        "outputId": "3e5f4561-979f-4906-d6ce-e6db64ca0255"
      },
      "outputs": [
        {
          "data": {
            "text/plain": [
              "False"
            ]
          },
          "execution_count": 34,
          "metadata": {},
          "output_type": "execute_result"
        }
      ],
      "source": [
        "s.isalpha() #returns False because of spaces in the string"
      ]
    },
    {
      "cell_type": "markdown",
      "source": [
        "## s.isnumeric()\n",
        "Returns True if all characters in the string are numeric\n"
      ],
      "metadata": {
        "id": "68b8M2YalG2H"
      }
    },
    {
      "cell_type": "code",
      "source": [
        "s.isnumeric()"
      ],
      "metadata": {
        "colab": {
          "base_uri": "https://localhost:8080/"
        },
        "id": "-uoC3tOqlK-H",
        "outputId": "ec6ef626-8bf4-4df6-aa08-02d5a8a6b65a"
      },
      "execution_count": 7,
      "outputs": [
        {
          "output_type": "execute_result",
          "data": {
            "text/plain": [
              "False"
            ]
          },
          "metadata": {},
          "execution_count": 7
        }
      ]
    },
    {
      "cell_type": "markdown",
      "metadata": {
        "id": "cRHggZv0ApVt"
      },
      "source": [
        "## s.isalnum()\n",
        "Returns True only if the entire string only consists of A-Z, a-z, 0-9."
      ]
    },
    {
      "cell_type": "code",
      "execution_count": null,
      "metadata": {
        "colab": {
          "base_uri": "https://localhost:8080/"
        },
        "id": "3ceZmkH-_-bP",
        "outputId": "00a587b4-3e1a-483b-8e7f-447c57acedaf"
      },
      "outputs": [
        {
          "data": {
            "text/plain": [
              "False"
            ]
          },
          "execution_count": 35,
          "metadata": {},
          "output_type": "execute_result"
        }
      ],
      "source": [
        "s.isalnum() #returns False because of spaces in the string"
      ]
    },
    {
      "cell_type": "markdown",
      "metadata": {
        "id": "mDv-7plhA6jD"
      },
      "source": [
        "## s.isdigit()\n",
        "Returns True if all characters in the string are digits"
      ]
    },
    {
      "cell_type": "code",
      "execution_count": 6,
      "metadata": {
        "colab": {
          "base_uri": "https://localhost:8080/"
        },
        "id": "ni4jTTDFAybv",
        "outputId": "a3138b27-6335-43d9-eb16-0b2381f2f112"
      },
      "outputs": [
        {
          "output_type": "execute_result",
          "data": {
            "text/plain": [
              "False"
            ]
          },
          "metadata": {},
          "execution_count": 6
        }
      ],
      "source": [
        "s.isdigit()"
      ]
    },
    {
      "cell_type": "markdown",
      "source": [
        "# \"\".join()\n",
        "\n",
        "It takes all items in an iterable and joins them into one string."
      ],
      "metadata": {
        "id": "i0IxUrGor4aw"
      }
    },
    {
      "cell_type": "code",
      "execution_count": 12,
      "metadata": {
        "id": "438rYD-qBJJm",
        "colab": {
          "base_uri": "https://localhost:8080/",
          "height": 35
        },
        "outputId": "f5a05593-0ffd-4854-ca7b-9e082f6bccfc"
      },
      "outputs": [
        {
          "output_type": "execute_result",
          "data": {
            "text/plain": [
              "'M#y# #n#a#m#e# #i#s# #P#r#i#n#c#e'"
            ],
            "application/vnd.google.colaboratory.intrinsic+json": {
              "type": "string"
            }
          },
          "metadata": {},
          "execution_count": 12
        }
      ],
      "source": [
        "\"#\".join(s)"
      ]
    },
    {
      "cell_type": "code",
      "source": [],
      "metadata": {
        "id": "Owjvl9bZsQQa"
      },
      "execution_count": null,
      "outputs": []
    }
  ],
  "metadata": {
    "colab": {
      "provenance": []
    },
    "kernelspec": {
      "display_name": "Python 3",
      "language": "python",
      "name": "python3"
    },
    "language_info": {
      "codemirror_mode": {
        "name": "ipython",
        "version": 3
      },
      "file_extension": ".py",
      "mimetype": "text/x-python",
      "name": "python",
      "nbconvert_exporter": "python",
      "pygments_lexer": "ipython3",
      "version": "3.6.9"
    },
    "vscode": {
      "interpreter": {
        "hash": "31f2aee4e71d21fbe5cf8b01ff0e069b9275f58929596ceb00d14d90e3e16cd6"
      }
    }
  },
  "nbformat": 4,
  "nbformat_minor": 0
}