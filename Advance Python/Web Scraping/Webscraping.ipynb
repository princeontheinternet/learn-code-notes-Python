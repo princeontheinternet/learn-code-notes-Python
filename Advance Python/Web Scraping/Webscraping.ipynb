{
 "cells": [
  {
   "cell_type": "markdown",
   "id": "1206e550",
   "metadata": {},
   "source": [
    "# Simple Web Scraping Program\n",
    "***"
   ]
  },
  {
   "cell_type": "code",
   "execution_count": 5,
   "id": "7d97125b",
   "metadata": {},
   "outputs": [],
   "source": [
    "# Extarct Titles for all books on all pages with two star rating\n",
    "\n",
    "import requests\n",
    "import bs4\n",
    "\n",
    "base_url = \"http://books.toscrape.com/catalogue/page-{}.html\"\n",
    "two_star_rating_book_title = []\n",
    "\n",
    "for n in range(51):\n",
    "    scrape_url = base_url.format(n)\n",
    "    res = requests.get(scrape_url)\n",
    "    \n",
    "    soup = bs4.BeautifulSoup(res.text, \"lxml\")\n",
    "    books = soup.select(\".product_pod\") # gives a list details of all books in single page\n",
    "    \n",
    "    for book in books:\n",
    "        if len(book.select('.star-rating.Two')) != 0:\n",
    "            two_star_rating_book_title.append(book.select('a')[1]['title'])"
   ]
  },
  {
   "cell_type": "code",
   "execution_count": 12,
   "id": "4f36f60f",
   "metadata": {},
   "outputs": [],
   "source": [
    "#two_star_rating_book_title"
   ]
  }
 ],
 "metadata": {
  "kernelspec": {
   "display_name": "Python 3",
   "language": "python",
   "name": "python3"
  },
  "language_info": {
   "codemirror_mode": {
    "name": "ipython",
    "version": 3
   },
   "file_extension": ".py",
   "mimetype": "text/x-python",
   "name": "python",
   "nbconvert_exporter": "python",
   "pygments_lexer": "ipython3",
   "version": "3.8.8"
  }
 },
 "nbformat": 4,
 "nbformat_minor": 5
}
